{
 "cells": [
  {
   "cell_type": "markdown",
   "id": "595d62f0",
   "metadata": {},
   "source": [
    "# Cap 1 Probability"
   ]
  },
  {
   "cell_type": "code",
   "execution_count": 1,
   "id": "32dfb12a",
   "metadata": {},
   "outputs": [],
   "source": [
    "import pandas as pd\n",
    "import numpy as np"
   ]
  },
  {
   "cell_type": "code",
   "execution_count": 2,
   "id": "ebbbaa88",
   "metadata": {},
   "outputs": [],
   "source": [
    "gss = pd.read_csv('data/gss_bayes.csv', index_col=0)"
   ]
  },
  {
   "cell_type": "code",
   "execution_count": 3,
   "id": "ee80fa48",
   "metadata": {},
   "outputs": [
    {
     "data": {
      "text/html": [
       "<div>\n",
       "<style scoped>\n",
       "    .dataframe tbody tr th:only-of-type {\n",
       "        vertical-align: middle;\n",
       "    }\n",
       "\n",
       "    .dataframe tbody tr th {\n",
       "        vertical-align: top;\n",
       "    }\n",
       "\n",
       "    .dataframe thead th {\n",
       "        text-align: right;\n",
       "    }\n",
       "</style>\n",
       "<table border=\"1\" class=\"dataframe\">\n",
       "  <thead>\n",
       "    <tr style=\"text-align: right;\">\n",
       "      <th></th>\n",
       "      <th>year</th>\n",
       "      <th>age</th>\n",
       "      <th>sex</th>\n",
       "      <th>polviews</th>\n",
       "      <th>partyid</th>\n",
       "      <th>indus10</th>\n",
       "    </tr>\n",
       "    <tr>\n",
       "      <th>caseid</th>\n",
       "      <th></th>\n",
       "      <th></th>\n",
       "      <th></th>\n",
       "      <th></th>\n",
       "      <th></th>\n",
       "      <th></th>\n",
       "    </tr>\n",
       "  </thead>\n",
       "  <tbody>\n",
       "    <tr>\n",
       "      <th>1</th>\n",
       "      <td>1974</td>\n",
       "      <td>21.0</td>\n",
       "      <td>1</td>\n",
       "      <td>4.0</td>\n",
       "      <td>2.0</td>\n",
       "      <td>4970.0</td>\n",
       "    </tr>\n",
       "    <tr>\n",
       "      <th>2</th>\n",
       "      <td>1974</td>\n",
       "      <td>41.0</td>\n",
       "      <td>1</td>\n",
       "      <td>5.0</td>\n",
       "      <td>0.0</td>\n",
       "      <td>9160.0</td>\n",
       "    </tr>\n",
       "    <tr>\n",
       "      <th>5</th>\n",
       "      <td>1974</td>\n",
       "      <td>58.0</td>\n",
       "      <td>2</td>\n",
       "      <td>6.0</td>\n",
       "      <td>1.0</td>\n",
       "      <td>2670.0</td>\n",
       "    </tr>\n",
       "    <tr>\n",
       "      <th>6</th>\n",
       "      <td>1974</td>\n",
       "      <td>30.0</td>\n",
       "      <td>1</td>\n",
       "      <td>5.0</td>\n",
       "      <td>4.0</td>\n",
       "      <td>6870.0</td>\n",
       "    </tr>\n",
       "    <tr>\n",
       "      <th>7</th>\n",
       "      <td>1974</td>\n",
       "      <td>48.0</td>\n",
       "      <td>1</td>\n",
       "      <td>5.0</td>\n",
       "      <td>4.0</td>\n",
       "      <td>7860.0</td>\n",
       "    </tr>\n",
       "  </tbody>\n",
       "</table>\n",
       "</div>"
      ],
      "text/plain": [
       "        year   age  sex  polviews  partyid  indus10\n",
       "caseid                                             \n",
       "1       1974  21.0    1       4.0      2.0   4970.0\n",
       "2       1974  41.0    1       5.0      0.0   9160.0\n",
       "5       1974  58.0    2       6.0      1.0   2670.0\n",
       "6       1974  30.0    1       5.0      4.0   6870.0\n",
       "7       1974  48.0    1       5.0      4.0   7860.0"
      ]
     },
     "execution_count": 3,
     "metadata": {},
     "output_type": "execute_result"
    }
   ],
   "source": [
    "gss.head()"
   ]
  },
  {
   "cell_type": "markdown",
   "id": "7f503d2d",
   "metadata": {},
   "source": [
    "The columns are\n",
    "\n",
    "    caseid: Respondent id (which is the index of the table).\n",
    "\n",
    "    year: Year when the respondent was surveyed.\n",
    "\n",
    "    age: Respondent’s age when surveyed.\n",
    "\n",
    "    sex: Male or female.\n",
    "\n",
    "    polviews: Political views on a range from liberal to conservative.\n",
    "\n",
    "    partyid: Political party affiliation, Democrat, Independent, or Republican.\n",
    "\n",
    "    indus10: Code for the industry the respondent works in.\n"
   ]
  },
  {
   "cell_type": "code",
   "execution_count": 4,
   "id": "0a0f5574",
   "metadata": {},
   "outputs": [
    {
     "data": {
      "text/plain": [
       "(49290, 6)"
      ]
     },
     "execution_count": 4,
     "metadata": {},
     "output_type": "execute_result"
    }
   ],
   "source": [
    "gss.shape"
   ]
  },
  {
   "cell_type": "code",
   "execution_count": 5,
   "id": "9d6464b7",
   "metadata": {},
   "outputs": [
    {
     "data": {
      "text/plain": [
       "caseid\n",
       "1    False\n",
       "2    False\n",
       "5    False\n",
       "6     True\n",
       "7    False\n",
       "Name: indus10, dtype: bool"
      ]
     },
     "execution_count": 5,
     "metadata": {},
     "output_type": "execute_result"
    }
   ],
   "source": [
    "# The code for \"Banking and related activities\" is 6870\n",
    "banker = gss.indus10 == 6870\n",
    "banker.head()"
   ]
  },
  {
   "cell_type": "code",
   "execution_count": 6,
   "id": "0a4a02a6",
   "metadata": {},
   "outputs": [
    {
     "data": {
      "text/plain": [
       "False    48562\n",
       "True       728\n",
       "Name: indus10, dtype: int64"
      ]
     },
     "execution_count": 6,
     "metadata": {},
     "output_type": "execute_result"
    }
   ],
   "source": [
    "banker.value_counts()"
   ]
  },
  {
   "cell_type": "code",
   "execution_count": 7,
   "id": "cdd16669",
   "metadata": {},
   "outputs": [
    {
     "data": {
      "text/plain": [
       "False    98.523027\n",
       "True      1.476973\n",
       "Name: indus10, dtype: float64"
      ]
     },
     "execution_count": 7,
     "metadata": {},
     "output_type": "execute_result"
    }
   ],
   "source": [
    "banker.value_counts(normalize=True) * 100"
   ]
  },
  {
   "cell_type": "markdown",
   "id": "7c46300c",
   "metadata": {},
   "source": [
    "### If we use the sum function on this Series, it treats Trues as 1 and False as 0, so the total is the number of bankers:"
   ]
  },
  {
   "cell_type": "code",
   "execution_count": 8,
   "id": "c8a69f61",
   "metadata": {},
   "outputs": [
    {
     "data": {
      "text/plain": [
       "728"
      ]
     },
     "execution_count": 8,
     "metadata": {},
     "output_type": "execute_result"
    }
   ],
   "source": [
    "banker.sum()"
   ]
  },
  {
   "cell_type": "code",
   "execution_count": 9,
   "id": "17f7668c",
   "metadata": {},
   "outputs": [
    {
     "data": {
      "text/plain": [
       "0.014769730168391155"
      ]
     },
     "execution_count": 9,
     "metadata": {},
     "output_type": "execute_result"
    }
   ],
   "source": [
    "# There are 728 bankers\n",
    "banker.mean()\n",
    "\n",
    "####\n",
    "# or banker.sum()/49290"
   ]
  },
  {
   "cell_type": "code",
   "execution_count": 10,
   "id": "d7c0f585",
   "metadata": {},
   "outputs": [
    {
     "data": {
      "text/plain": [
       "0.014769730168391155"
      ]
     },
     "execution_count": 10,
     "metadata": {},
     "output_type": "execute_result"
    }
   ],
   "source": [
    "banker.sum() / banker.size"
   ]
  },
  {
   "cell_type": "code",
   "execution_count": 11,
   "id": "6a875244",
   "metadata": {},
   "outputs": [
    {
     "name": "stdout",
     "output_type": "stream",
     "text": [
      "If we choose a random person from the dataset, the probability they are a banker is about: 1.5%\n"
     ]
    }
   ],
   "source": [
    "print(f'If we choose a random person from the dataset, the probability they are a banker is about: {round(banker.mean(), 3) * 100}%')"
   ]
  },
  {
   "cell_type": "markdown",
   "id": "964a3a8c",
   "metadata": {},
   "source": [
    "## The probability function"
   ]
  },
  {
   "cell_type": "code",
   "execution_count": 12,
   "id": "4c7b0267",
   "metadata": {},
   "outputs": [],
   "source": [
    "def prob(A):\n",
    "    \"\"\"Computes the probability of a proposition, A.\n",
    "       A: Boolean series\n",
    "       returns: probability\n",
    "    \"\"\"\n",
    "    assert isinstance(A, pd.Series)\n",
    "    assert A.dtype == 'bool'\n",
    "    return A.mean()"
   ]
  },
  {
   "cell_type": "code",
   "execution_count": 13,
   "id": "48dc778f",
   "metadata": {},
   "outputs": [
    {
     "data": {
      "text/plain": [
       "0.014769730168391155"
      ]
     },
     "execution_count": 13,
     "metadata": {},
     "output_type": "execute_result"
    }
   ],
   "source": [
    "prob(banker)"
   ]
  },
  {
   "cell_type": "code",
   "execution_count": 14,
   "id": "b6031be3",
   "metadata": {},
   "outputs": [
    {
     "data": {
      "text/plain": [
       "1.4769730168391155"
      ]
     },
     "execution_count": 14,
     "metadata": {},
     "output_type": "execute_result"
    }
   ],
   "source": [
    "prob(banker) * 100"
   ]
  },
  {
   "cell_type": "code",
   "execution_count": 15,
   "id": "91a068cb",
   "metadata": {},
   "outputs": [
    {
     "data": {
      "text/plain": [
       "caseid\n",
       "1    False\n",
       "2    False\n",
       "5     True\n",
       "6    False\n",
       "7    False\n",
       "Name: sex, dtype: bool"
      ]
     },
     "execution_count": 15,
     "metadata": {},
     "output_type": "execute_result"
    }
   ],
   "source": [
    "female = gss.sex == 2\n",
    "female.head()"
   ]
  },
  {
   "cell_type": "code",
   "execution_count": 16,
   "id": "8aea002a",
   "metadata": {},
   "outputs": [
    {
     "data": {
      "text/plain": [
       "0.5378575776019476"
      ]
     },
     "execution_count": 16,
     "metadata": {},
     "output_type": "execute_result"
    }
   ],
   "source": [
    "prob(female)"
   ]
  },
  {
   "cell_type": "code",
   "execution_count": 41,
   "id": "b064d9fa",
   "metadata": {},
   "outputs": [
    {
     "data": {
      "text/plain": [
       "caseid\n",
       "1     True\n",
       "2     True\n",
       "5    False\n",
       "6     True\n",
       "7     True\n",
       "Name: sex, dtype: bool"
      ]
     },
     "execution_count": 41,
     "metadata": {},
     "output_type": "execute_result"
    }
   ],
   "source": [
    "male = gss.sex == 1\n",
    "male.head()"
   ]
  },
  {
   "cell_type": "code",
   "execution_count": 42,
   "id": "ad4af5c7",
   "metadata": {},
   "outputs": [
    {
     "data": {
      "text/plain": [
       "0.46214242239805237"
      ]
     },
     "execution_count": 42,
     "metadata": {},
     "output_type": "execute_result"
    }
   ],
   "source": [
    "prob(male)"
   ]
  },
  {
   "cell_type": "code",
   "execution_count": 43,
   "id": "c6196230",
   "metadata": {},
   "outputs": [
    {
     "data": {
      "text/plain": [
       "0.46214242239805237"
      ]
     },
     "execution_count": 43,
     "metadata": {},
     "output_type": "execute_result"
    }
   ],
   "source": [
    "1 - prob(female)"
   ]
  },
  {
   "cell_type": "code",
   "execution_count": 17,
   "id": "dfac54ea",
   "metadata": {},
   "outputs": [
    {
     "data": {
      "text/plain": [
       "53.786"
      ]
     },
     "execution_count": 17,
     "metadata": {},
     "output_type": "execute_result"
    }
   ],
   "source": [
    "round(prob(female) * 100, 3)"
   ]
  },
  {
   "cell_type": "markdown",
   "id": "2760d1dc",
   "metadata": {},
   "source": [
    "### Political views and parties\n",
    "I´ll define liberal to be True for anyone whose response is \"Extremely liberal\", \"Liberal\", or \"Slightly liberal\"."
   ]
  },
  {
   "cell_type": "code",
   "execution_count": 18,
   "id": "64a59566",
   "metadata": {},
   "outputs": [
    {
     "data": {
      "text/plain": [
       "caseid\n",
       "1    False\n",
       "2    False\n",
       "5    False\n",
       "6    False\n",
       "7    False\n",
       "Name: polviews, dtype: bool"
      ]
     },
     "execution_count": 18,
     "metadata": {},
     "output_type": "execute_result"
    }
   ],
   "source": [
    "liberal = gss.polviews <= 3\n",
    "liberal.head()"
   ]
  },
  {
   "cell_type": "code",
   "execution_count": 19,
   "id": "ee0b5c58",
   "metadata": {},
   "outputs": [
    {
     "data": {
      "text/plain": [
       "0.27374721038750255"
      ]
     },
     "execution_count": 19,
     "metadata": {},
     "output_type": "execute_result"
    }
   ],
   "source": [
    "prob(liberal)"
   ]
  },
  {
   "cell_type": "code",
   "execution_count": 20,
   "id": "2bf91920",
   "metadata": {},
   "outputs": [
    {
     "data": {
      "text/plain": [
       "27.375"
      ]
     },
     "execution_count": 20,
     "metadata": {},
     "output_type": "execute_result"
    }
   ],
   "source": [
    "round((prob(liberal) * 100),3)"
   ]
  },
  {
   "cell_type": "code",
   "execution_count": 21,
   "id": "a63ce229",
   "metadata": {},
   "outputs": [
    {
     "data": {
      "text/plain": [
       "caseid\n",
       "1    False\n",
       "2     True\n",
       "5     True\n",
       "6    False\n",
       "7    False\n",
       "Name: partyid, dtype: bool"
      ]
     },
     "execution_count": 21,
     "metadata": {},
     "output_type": "execute_result"
    }
   ],
   "source": [
    "democrat = gss.partyid <= 1\n",
    "democrat.head()"
   ]
  },
  {
   "cell_type": "code",
   "execution_count": 22,
   "id": "dfd3a40c",
   "metadata": {},
   "outputs": [
    {
     "data": {
      "text/plain": [
       "0.3662609048488537"
      ]
     },
     "execution_count": 22,
     "metadata": {},
     "output_type": "execute_result"
    }
   ],
   "source": [
    "prob(democrat)"
   ]
  },
  {
   "cell_type": "code",
   "execution_count": 23,
   "id": "be8956c5",
   "metadata": {},
   "outputs": [
    {
     "data": {
      "text/plain": [
       "36.626"
      ]
     },
     "execution_count": 23,
     "metadata": {},
     "output_type": "execute_result"
    }
   ],
   "source": [
    "round(prob(democrat) * 100, 3)"
   ]
  },
  {
   "cell_type": "markdown",
   "id": "7c2a69e4",
   "metadata": {},
   "source": [
    "## Conjunction\n",
    "If you have two <b>proposistions</b>, A and B, the conjunction A and B is True if BOTH A and B are True, and False otherwise."
   ]
  },
  {
   "cell_type": "code",
   "execution_count": 24,
   "id": "3b7ea7b6",
   "metadata": {},
   "outputs": [
    {
     "data": {
      "text/plain": [
       "0.004686548995739501"
      ]
     },
     "execution_count": 24,
     "metadata": {},
     "output_type": "execute_result"
    }
   ],
   "source": [
    "prob(banker & democrat)"
   ]
  },
  {
   "cell_type": "code",
   "execution_count": 25,
   "id": "1f57f5a1",
   "metadata": {},
   "outputs": [
    {
     "name": "stdout",
     "output_type": "stream",
     "text": [
      "The probability of being a banker and a democrat is: 0.469 %\n"
     ]
    }
   ],
   "source": [
    "print(f'The probability of being a banker and a democrat is: {round(prob(banker & democrat) * 100, 3)} %')"
   ]
  },
  {
   "cell_type": "markdown",
   "id": "7e22948c",
   "metadata": {},
   "source": [
    "#### Conjunction table"
   ]
  },
  {
   "cell_type": "code",
   "execution_count": 46,
   "id": "ab7dd437",
   "metadata": {},
   "outputs": [
    {
     "data": {
      "text/html": [
       "<div>\n",
       "<style scoped>\n",
       "    .dataframe tbody tr th:only-of-type {\n",
       "        vertical-align: middle;\n",
       "    }\n",
       "\n",
       "    .dataframe tbody tr th {\n",
       "        vertical-align: top;\n",
       "    }\n",
       "\n",
       "    .dataframe thead th {\n",
       "        text-align: right;\n",
       "    }\n",
       "</style>\n",
       "<table border=\"1\" class=\"dataframe\">\n",
       "  <thead>\n",
       "    <tr style=\"text-align: right;\">\n",
       "      <th></th>\n",
       "      <th>A</th>\n",
       "      <th>B</th>\n",
       "      <th>A &amp; B</th>\n",
       "    </tr>\n",
       "  </thead>\n",
       "  <tbody>\n",
       "    <tr>\n",
       "      <th>0</th>\n",
       "      <td>True</td>\n",
       "      <td>True</td>\n",
       "      <td>True</td>\n",
       "    </tr>\n",
       "    <tr>\n",
       "      <th>1</th>\n",
       "      <td>True</td>\n",
       "      <td>False</td>\n",
       "      <td>False</td>\n",
       "    </tr>\n",
       "    <tr>\n",
       "      <th>2</th>\n",
       "      <td>False</td>\n",
       "      <td>True</td>\n",
       "      <td>False</td>\n",
       "    </tr>\n",
       "    <tr>\n",
       "      <th>3</th>\n",
       "      <td>False</td>\n",
       "      <td>False</td>\n",
       "      <td>False</td>\n",
       "    </tr>\n",
       "  </tbody>\n",
       "</table>\n",
       "</div>"
      ],
      "text/plain": [
       "       A      B  A & B\n",
       "0   True   True   True\n",
       "1   True  False  False\n",
       "2  False   True  False\n",
       "3  False  False  False"
      ]
     },
     "execution_count": 46,
     "metadata": {},
     "output_type": "execute_result"
    }
   ],
   "source": [
    "A = pd.Series((True, True, False, False))\n",
    "B = pd.Series((True, False, True, False))\n",
    "\n",
    "\n",
    "table = pd.DataFrame()\n",
    "table['A'] = A\n",
    "table['B'] = B\n",
    "table['A & B'] = A & B\n",
    "table"
   ]
  },
  {
   "cell_type": "markdown",
   "id": "34cd7c4d",
   "metadata": {},
   "source": [
    "### Conditional probability\n",
    "is a probability that depends on a condition <br>\n",
    ". what is the probability that a respondent is a democrat, given that they are liberal? <br>\n",
    ". what is the probability that a respondent is female, given that they are a banker? <br>\n",
    ". what is the probability that a respondent is liberal, given taht they are female?"
   ]
  },
  {
   "cell_type": "code",
   "execution_count": 26,
   "id": "643bcd3d",
   "metadata": {},
   "outputs": [
    {
     "name": "stdout",
     "output_type": "stream",
     "text": [
      "To select liberal respondents, we can use the bracket operator, [], like this:\n"
     ]
    }
   ],
   "source": [
    "print('To select liberal respondents, we can use the bracket operator, [], like this:')\n",
    "selected = democrat[liberal]"
   ]
  },
  {
   "cell_type": "code",
   "execution_count": 27,
   "id": "439cee4d",
   "metadata": {},
   "outputs": [
    {
     "data": {
      "text/plain": [
       "13493"
      ]
     },
     "execution_count": 27,
     "metadata": {},
     "output_type": "execute_result"
    }
   ],
   "source": [
    "len(selected)"
   ]
  },
  {
   "cell_type": "code",
   "execution_count": 28,
   "id": "923326c5",
   "metadata": {},
   "outputs": [
    {
     "data": {
      "text/plain": [
       "0.5206403320240125"
      ]
     },
     "execution_count": 28,
     "metadata": {},
     "output_type": "execute_result"
    }
   ],
   "source": [
    "prob(selected)"
   ]
  },
  {
   "cell_type": "code",
   "execution_count": 29,
   "id": "c844d03d",
   "metadata": {},
   "outputs": [],
   "source": [
    "def prob_100(A):\n",
    "    '''Probability, but in percentage'''\n",
    "    print(f'{round(A.mean()* 100, 3)} %')"
   ]
  },
  {
   "cell_type": "code",
   "execution_count": 30,
   "id": "950ab648",
   "metadata": {},
   "outputs": [
    {
     "name": "stdout",
     "output_type": "stream",
     "text": [
      "52.064 %\n"
     ]
    }
   ],
   "source": [
    "prob_100(selected)"
   ]
  },
  {
   "cell_type": "code",
   "execution_count": 31,
   "id": "c6b46d0a",
   "metadata": {},
   "outputs": [
    {
     "data": {
      "text/plain": [
       "0.7706043956043956"
      ]
     },
     "execution_count": 31,
     "metadata": {},
     "output_type": "execute_result"
    }
   ],
   "source": [
    "selected = female[banker]\n",
    "prob(selected)"
   ]
  },
  {
   "cell_type": "code",
   "execution_count": 32,
   "id": "310581e5",
   "metadata": {},
   "outputs": [
    {
     "name": "stdout",
     "output_type": "stream",
     "text": [
      "77.06 %\n"
     ]
    }
   ],
   "source": [
    "prob_100(selected)"
   ]
  },
  {
   "cell_type": "code",
   "execution_count": 33,
   "id": "3cd5a3d6",
   "metadata": {},
   "outputs": [],
   "source": [
    "def conditional(proposition, given):\n",
    "    return prob(proposition[given])"
   ]
  },
  {
   "cell_type": "code",
   "execution_count": 34,
   "id": "a4aa6805",
   "metadata": {},
   "outputs": [
    {
     "data": {
      "text/plain": [
       "0.27581004111500884"
      ]
     },
     "execution_count": 34,
     "metadata": {},
     "output_type": "execute_result"
    }
   ],
   "source": [
    "conditional(liberal, given=female)"
   ]
  },
  {
   "cell_type": "markdown",
   "id": "45482559",
   "metadata": {},
   "source": [
    "About 27,58% of female respondents are liberal."
   ]
  },
  {
   "cell_type": "code",
   "execution_count": 35,
   "id": "c3cca5c4",
   "metadata": {},
   "outputs": [
    {
     "data": {
      "text/plain": [
       "0.5206403320240125"
      ]
     },
     "execution_count": 35,
     "metadata": {},
     "output_type": "execute_result"
    }
   ],
   "source": [
    "conditional(democrat, given=liberal)"
   ]
  },
  {
   "cell_type": "markdown",
   "id": "d620e0db",
   "metadata": {},
   "source": [
    "## Conditional probability is NOT commutative\n",
    "Conjunction is commutative; that is, prob(A & B) is always equal to prob(B & A). <br>\n",
    "But conditional probability is NOT commutative; that is, conditional(A, B is not the same as conditional(B, A)."
   ]
  },
  {
   "cell_type": "code",
   "execution_count": 36,
   "id": "bab24efc",
   "metadata": {},
   "outputs": [
    {
     "data": {
      "text/plain": [
       "0.5419106203216483"
      ]
     },
     "execution_count": 36,
     "metadata": {},
     "output_type": "execute_result"
    }
   ],
   "source": [
    "conditional(female, given=liberal)"
   ]
  },
  {
   "cell_type": "code",
   "execution_count": 37,
   "id": "0d018ef5",
   "metadata": {},
   "outputs": [
    {
     "data": {
      "text/plain": [
       "0.27581004111500884"
      ]
     },
     "execution_count": 37,
     "metadata": {},
     "output_type": "execute_result"
    }
   ],
   "source": [
    "conditional(liberal, given=female)"
   ]
  },
  {
   "cell_type": "markdown",
   "id": "46725f86",
   "metadata": {},
   "source": [
    "### Condition and conjunction\n",
    "We can combine conditional probability and conjunction."
   ]
  },
  {
   "cell_type": "code",
   "execution_count": 38,
   "id": "012497a7",
   "metadata": {},
   "outputs": [
    {
     "data": {
      "text/plain": [
       "0.576085409252669"
      ]
     },
     "execution_count": 38,
     "metadata": {},
     "output_type": "execute_result"
    }
   ],
   "source": [
    "conditional(female, given=liberal & democrat)"
   ]
  },
  {
   "cell_type": "markdown",
   "id": "9dca30b6",
   "metadata": {},
   "source": [
    "About 57,60% of liberal democrats are female."
   ]
  },
  {
   "cell_type": "code",
   "execution_count": 39,
   "id": "2294b82d",
   "metadata": {},
   "outputs": [
    {
     "data": {
      "text/plain": [
       "0.17307692307692307"
      ]
     },
     "execution_count": 39,
     "metadata": {},
     "output_type": "execute_result"
    }
   ],
   "source": [
    "conditional(liberal & female, given=banker)"
   ]
  },
  {
   "cell_type": "markdown",
   "id": "5ac3547f",
   "metadata": {},
   "source": [
    "About 17,30% of bankers are liberal women."
   ]
  }
 ],
 "metadata": {
  "kernelspec": {
   "display_name": "Python 3 (ipykernel)",
   "language": "python",
   "name": "python3"
  },
  "language_info": {
   "codemirror_mode": {
    "name": "ipython",
    "version": 3
   },
   "file_extension": ".py",
   "mimetype": "text/x-python",
   "name": "python",
   "nbconvert_exporter": "python",
   "pygments_lexer": "ipython3",
   "version": "3.11.3"
  }
 },
 "nbformat": 4,
 "nbformat_minor": 5
}
