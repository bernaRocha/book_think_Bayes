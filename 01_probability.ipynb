{
 "cells": [
  {
   "cell_type": "markdown",
   "id": "81e57c9d",
   "metadata": {},
   "source": [
    "# Cap 1 Probability"
   ]
  },
  {
   "cell_type": "code",
   "execution_count": 1,
   "id": "1218c1b0",
   "metadata": {},
   "outputs": [],
   "source": [
    "import pandas as pd"
   ]
  },
  {
   "cell_type": "code",
   "execution_count": 4,
   "id": "0d9f0333",
   "metadata": {},
   "outputs": [],
   "source": [
    "gss = pd.read_csv('data/gss_bayes.csv', index_col=0)"
   ]
  },
  {
   "cell_type": "code",
   "execution_count": 6,
   "id": "fafe64ec",
   "metadata": {},
   "outputs": [
    {
     "data": {
      "text/html": [
       "<div>\n",
       "<style scoped>\n",
       "    .dataframe tbody tr th:only-of-type {\n",
       "        vertical-align: middle;\n",
       "    }\n",
       "\n",
       "    .dataframe tbody tr th {\n",
       "        vertical-align: top;\n",
       "    }\n",
       "\n",
       "    .dataframe thead th {\n",
       "        text-align: right;\n",
       "    }\n",
       "</style>\n",
       "<table border=\"1\" class=\"dataframe\">\n",
       "  <thead>\n",
       "    <tr style=\"text-align: right;\">\n",
       "      <th></th>\n",
       "      <th>year</th>\n",
       "      <th>age</th>\n",
       "      <th>sex</th>\n",
       "      <th>polviews</th>\n",
       "      <th>partyid</th>\n",
       "      <th>indus10</th>\n",
       "    </tr>\n",
       "    <tr>\n",
       "      <th>caseid</th>\n",
       "      <th></th>\n",
       "      <th></th>\n",
       "      <th></th>\n",
       "      <th></th>\n",
       "      <th></th>\n",
       "      <th></th>\n",
       "    </tr>\n",
       "  </thead>\n",
       "  <tbody>\n",
       "    <tr>\n",
       "      <th>1</th>\n",
       "      <td>1974</td>\n",
       "      <td>21.0</td>\n",
       "      <td>1</td>\n",
       "      <td>4.0</td>\n",
       "      <td>2.0</td>\n",
       "      <td>4970.0</td>\n",
       "    </tr>\n",
       "    <tr>\n",
       "      <th>2</th>\n",
       "      <td>1974</td>\n",
       "      <td>41.0</td>\n",
       "      <td>1</td>\n",
       "      <td>5.0</td>\n",
       "      <td>0.0</td>\n",
       "      <td>9160.0</td>\n",
       "    </tr>\n",
       "    <tr>\n",
       "      <th>5</th>\n",
       "      <td>1974</td>\n",
       "      <td>58.0</td>\n",
       "      <td>2</td>\n",
       "      <td>6.0</td>\n",
       "      <td>1.0</td>\n",
       "      <td>2670.0</td>\n",
       "    </tr>\n",
       "    <tr>\n",
       "      <th>6</th>\n",
       "      <td>1974</td>\n",
       "      <td>30.0</td>\n",
       "      <td>1</td>\n",
       "      <td>5.0</td>\n",
       "      <td>4.0</td>\n",
       "      <td>6870.0</td>\n",
       "    </tr>\n",
       "    <tr>\n",
       "      <th>7</th>\n",
       "      <td>1974</td>\n",
       "      <td>48.0</td>\n",
       "      <td>1</td>\n",
       "      <td>5.0</td>\n",
       "      <td>4.0</td>\n",
       "      <td>7860.0</td>\n",
       "    </tr>\n",
       "  </tbody>\n",
       "</table>\n",
       "</div>"
      ],
      "text/plain": [
       "        year   age  sex  polviews  partyid  indus10\n",
       "caseid                                             \n",
       "1       1974  21.0    1       4.0      2.0   4970.0\n",
       "2       1974  41.0    1       5.0      0.0   9160.0\n",
       "5       1974  58.0    2       6.0      1.0   2670.0\n",
       "6       1974  30.0    1       5.0      4.0   6870.0\n",
       "7       1974  48.0    1       5.0      4.0   7860.0"
      ]
     },
     "execution_count": 6,
     "metadata": {},
     "output_type": "execute_result"
    }
   ],
   "source": [
    "gss.head()"
   ]
  },
  {
   "cell_type": "code",
   "execution_count": 13,
   "id": "96274aac",
   "metadata": {},
   "outputs": [
    {
     "data": {
      "text/plain": [
       "(49290, 6)"
      ]
     },
     "execution_count": 13,
     "metadata": {},
     "output_type": "execute_result"
    }
   ],
   "source": [
    "gss.shape"
   ]
  },
  {
   "cell_type": "code",
   "execution_count": 10,
   "id": "bd9efb8f",
   "metadata": {},
   "outputs": [
    {
     "data": {
      "text/plain": [
       "caseid\n",
       "1    False\n",
       "2    False\n",
       "5    False\n",
       "6     True\n",
       "7    False\n",
       "Name: indus10, dtype: bool"
      ]
     },
     "execution_count": 10,
     "metadata": {},
     "output_type": "execute_result"
    }
   ],
   "source": [
    "# The code for \"Banking and related activities\" is 6870\n",
    "banker = gss.indus10 == 6870\n",
    "banker.head()"
   ]
  },
  {
   "cell_type": "markdown",
   "id": "5bb82a1c",
   "metadata": {},
   "source": [
    "### If we use the sum function on this Series, it treats Trues as 1 and False as 0, so the total is the number of bankers:"
   ]
  },
  {
   "cell_type": "code",
   "execution_count": 11,
   "id": "12bc55fa",
   "metadata": {},
   "outputs": [
    {
     "data": {
      "text/plain": [
       "728"
      ]
     },
     "execution_count": 11,
     "metadata": {},
     "output_type": "execute_result"
    }
   ],
   "source": [
    "banker.sum()"
   ]
  },
  {
   "cell_type": "code",
   "execution_count": 12,
   "id": "55bea3ff",
   "metadata": {},
   "outputs": [
    {
     "data": {
      "text/plain": [
       "0.014769730168391155"
      ]
     },
     "execution_count": 12,
     "metadata": {},
     "output_type": "execute_result"
    }
   ],
   "source": [
    "# There are 728 bankers\n",
    "banker.mean()\n",
    "\n",
    "####\n",
    "# or banker.sum()/49290"
   ]
  },
  {
   "cell_type": "code",
   "execution_count": 18,
   "id": "4d3c3ceb",
   "metadata": {},
   "outputs": [
    {
     "name": "stdout",
     "output_type": "stream",
     "text": [
      "If we choose a random person from the dataset, the probability they are a banker is about: 1.5%\n"
     ]
    }
   ],
   "source": [
    "print(f'If we choose a random person from the dataset, the probability they are a banker is about: {round(banker.mean(), 3) * 100}%')"
   ]
  },
  {
   "cell_type": "markdown",
   "id": "e6b5ac02",
   "metadata": {},
   "source": [
    "## The probability function"
   ]
  },
  {
   "cell_type": "code",
   "execution_count": 19,
   "id": "bb2a0808",
   "metadata": {},
   "outputs": [],
   "source": [
    "def prob(A):\n",
    "    \"\"\"Computes the probability of a proposition, A.\"\"\"\n",
    "    return A.mean()"
   ]
  },
  {
   "cell_type": "code",
   "execution_count": 20,
   "id": "6a759297",
   "metadata": {},
   "outputs": [
    {
     "data": {
      "text/plain": [
       "0.014769730168391155"
      ]
     },
     "execution_count": 20,
     "metadata": {},
     "output_type": "execute_result"
    }
   ],
   "source": [
    "prob(banker)"
   ]
  },
  {
   "cell_type": "code",
   "execution_count": 21,
   "id": "beaef370",
   "metadata": {},
   "outputs": [
    {
     "data": {
      "text/plain": [
       "1.4769730168391155"
      ]
     },
     "execution_count": 21,
     "metadata": {},
     "output_type": "execute_result"
    }
   ],
   "source": [
    "prob(banker) * 100"
   ]
  },
  {
   "cell_type": "code",
   "execution_count": 22,
   "id": "5ada4773",
   "metadata": {},
   "outputs": [
    {
     "data": {
      "text/plain": [
       "caseid\n",
       "1    False\n",
       "2    False\n",
       "5     True\n",
       "6    False\n",
       "7    False\n",
       "Name: sex, dtype: bool"
      ]
     },
     "execution_count": 22,
     "metadata": {},
     "output_type": "execute_result"
    }
   ],
   "source": [
    "female = gss.sex == 2\n",
    "female.head()"
   ]
  },
  {
   "cell_type": "code",
   "execution_count": 23,
   "id": "67ccb417",
   "metadata": {},
   "outputs": [
    {
     "data": {
      "text/plain": [
       "0.5378575776019476"
      ]
     },
     "execution_count": 23,
     "metadata": {},
     "output_type": "execute_result"
    }
   ],
   "source": [
    "prob(female)"
   ]
  },
  {
   "cell_type": "code",
   "execution_count": 30,
   "id": "e54bf531",
   "metadata": {},
   "outputs": [
    {
     "data": {
      "text/plain": [
       "53.786"
      ]
     },
     "execution_count": 30,
     "metadata": {},
     "output_type": "execute_result"
    }
   ],
   "source": [
    "round(prob(female) * 100, 3)"
   ]
  },
  {
   "cell_type": "markdown",
   "id": "9e60fdb9",
   "metadata": {},
   "source": [
    "### Political views and parties\n",
    "I´ll define liberal to be True for anyone whose response is \"Extremely liberal\", \"Liberal\", or \"Slightly liberal\"."
   ]
  },
  {
   "cell_type": "code",
   "execution_count": 26,
   "id": "2eb32b7d",
   "metadata": {},
   "outputs": [
    {
     "data": {
      "text/plain": [
       "caseid\n",
       "1    False\n",
       "2    False\n",
       "5    False\n",
       "6    False\n",
       "7    False\n",
       "Name: polviews, dtype: bool"
      ]
     },
     "execution_count": 26,
     "metadata": {},
     "output_type": "execute_result"
    }
   ],
   "source": [
    "liberal = gss.polviews <= 3\n",
    "liberal.head()"
   ]
  },
  {
   "cell_type": "code",
   "execution_count": 27,
   "id": "76f8523b",
   "metadata": {},
   "outputs": [
    {
     "data": {
      "text/plain": [
       "0.27374721038750255"
      ]
     },
     "execution_count": 27,
     "metadata": {},
     "output_type": "execute_result"
    }
   ],
   "source": [
    "prob(liberal)"
   ]
  },
  {
   "cell_type": "code",
   "execution_count": 36,
   "id": "8226f99d",
   "metadata": {},
   "outputs": [
    {
     "data": {
      "text/plain": [
       "27.375"
      ]
     },
     "execution_count": 36,
     "metadata": {},
     "output_type": "execute_result"
    }
   ],
   "source": [
    "round((prob(liberal) * 100),3)"
   ]
  },
  {
   "cell_type": "code",
   "execution_count": 32,
   "id": "1d1b2599",
   "metadata": {},
   "outputs": [
    {
     "data": {
      "text/plain": [
       "caseid\n",
       "1    False\n",
       "2     True\n",
       "5     True\n",
       "6    False\n",
       "7    False\n",
       "Name: partyid, dtype: bool"
      ]
     },
     "execution_count": 32,
     "metadata": {},
     "output_type": "execute_result"
    }
   ],
   "source": [
    "democrat = gss.partyid <= 1\n",
    "democrat.head()"
   ]
  },
  {
   "cell_type": "code",
   "execution_count": 33,
   "id": "72c1aeaf",
   "metadata": {},
   "outputs": [
    {
     "data": {
      "text/plain": [
       "0.3662609048488537"
      ]
     },
     "execution_count": 33,
     "metadata": {},
     "output_type": "execute_result"
    }
   ],
   "source": [
    "prob(democrat)"
   ]
  },
  {
   "cell_type": "code",
   "execution_count": 35,
   "id": "33defa64",
   "metadata": {},
   "outputs": [
    {
     "data": {
      "text/plain": [
       "36.626"
      ]
     },
     "execution_count": 35,
     "metadata": {},
     "output_type": "execute_result"
    }
   ],
   "source": [
    "round(prob(democrat) * 100, 3)"
   ]
  },
  {
   "cell_type": "markdown",
   "id": "fb5fac15",
   "metadata": {},
   "source": [
    "## Conjunction\n",
    "If you have two <b>proposistions</b>, A and B, the conjunction A and B is True if BOTH A and B are True, and False otherwise."
   ]
  },
  {
   "cell_type": "code",
   "execution_count": 37,
   "id": "4d3ffbc7",
   "metadata": {},
   "outputs": [
    {
     "data": {
      "text/plain": [
       "0.004686548995739501"
      ]
     },
     "execution_count": 37,
     "metadata": {},
     "output_type": "execute_result"
    }
   ],
   "source": [
    "prob(banker & democrat)"
   ]
  },
  {
   "cell_type": "code",
   "execution_count": 43,
   "id": "be26973d",
   "metadata": {},
   "outputs": [
    {
     "name": "stdout",
     "output_type": "stream",
     "text": [
      "The probability of being a banker and a democrat is: 0.469 %\n"
     ]
    }
   ],
   "source": [
    "print(f'The probability of being a banker and a democrat is: {round(prob(banker & democrat) * 100, 3)} %')"
   ]
  },
  {
   "cell_type": "markdown",
   "id": "2902be30",
   "metadata": {},
   "source": [
    "### Conditional probability\n",
    "is a probability that depends on a condition <br>\n",
    ". what is the probability that a respondent is a democrat, given that they are liberal? <br>\n",
    ". what is the probability that a respondent is female, given that they are a banker? <br>\n",
    ". what is the probability that a respondent is liberal, given taht they are female?"
   ]
  },
  {
   "cell_type": "code",
   "execution_count": 44,
   "id": "d84ffb98",
   "metadata": {},
   "outputs": [
    {
     "name": "stdout",
     "output_type": "stream",
     "text": [
      "To select liberal respondents, we can use the bracket operator, [], like this:\n"
     ]
    }
   ],
   "source": [
    "print('To select liberal respondents, we can use the bracket operator, [], like this:')\n",
    "selected = democrat[liberal]"
   ]
  },
  {
   "cell_type": "code",
   "execution_count": 45,
   "id": "8c20fd87",
   "metadata": {},
   "outputs": [
    {
     "data": {
      "text/plain": [
       "0.5206403320240125"
      ]
     },
     "execution_count": 45,
     "metadata": {},
     "output_type": "execute_result"
    }
   ],
   "source": [
    "prob(selected)"
   ]
  },
  {
   "cell_type": "code",
   "execution_count": 56,
   "id": "f7f314b0",
   "metadata": {},
   "outputs": [],
   "source": [
    "def prob_100(A):\n",
    "    '''Probability, but in percentage'''\n",
    "    print(f'{round(A.mean()* 100, 3)} %')"
   ]
  },
  {
   "cell_type": "code",
   "execution_count": 57,
   "id": "f7cf9d36",
   "metadata": {},
   "outputs": [
    {
     "name": "stdout",
     "output_type": "stream",
     "text": [
      "52.064 %\n"
     ]
    }
   ],
   "source": [
    "prob_100(selected)"
   ]
  },
  {
   "cell_type": "code",
   "execution_count": null,
   "id": "417ba48d",
   "metadata": {},
   "outputs": [],
   "source": []
  }
 ],
 "metadata": {
  "kernelspec": {
   "display_name": "Python 3 (ipykernel)",
   "language": "python",
   "name": "python3"
  },
  "language_info": {
   "codemirror_mode": {
    "name": "ipython",
    "version": 3
   },
   "file_extension": ".py",
   "mimetype": "text/x-python",
   "name": "python",
   "nbconvert_exporter": "python",
   "pygments_lexer": "ipython3",
   "version": "3.11.3"
  }
 },
 "nbformat": 4,
 "nbformat_minor": 5
}
