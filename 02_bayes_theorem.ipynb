{
 "cells": [
  {
   "cell_type": "code",
   "execution_count": 1,
   "id": "b8a31866",
   "metadata": {},
   "outputs": [],
   "source": [
    "import pandas as pd\n",
    "import numpy as np"
   ]
  },
  {
   "cell_type": "code",
   "execution_count": 3,
   "id": "7da6e9c7",
   "metadata": {},
   "outputs": [],
   "source": [
    "gss = pd.read_csv('data/gss_bayes.csv', index_col=0)"
   ]
  },
  {
   "cell_type": "code",
   "execution_count": 4,
   "id": "1a35705d",
   "metadata": {},
   "outputs": [],
   "source": [
    "banker = (gss['indus10'] == 6870)\n",
    "\n",
    "female = (gss['sex'] == 2)\n",
    "\n",
    "liberal = (gss['polviews'] < 4)\n",
    "\n",
    "democrat = (gss['partyid'] <= 1)"
   ]
  },
  {
   "cell_type": "code",
   "execution_count": 5,
   "id": "5232c139",
   "metadata": {},
   "outputs": [],
   "source": [
    "def prob(A):\n",
    "    \"\"\"Computes the probability of a proposition, A.\n",
    "       A: Boolean series\n",
    "       returns: probability\n",
    "    \"\"\"\n",
    "    assert isinstance(A, pd.Series)\n",
    "    assert A.dtype == 'bool'\n",
    "    return A.mean()"
   ]
  },
  {
   "cell_type": "code",
   "execution_count": 6,
   "id": "3e0f1057",
   "metadata": {},
   "outputs": [
    {
     "data": {
      "text/plain": [
       "0.19435991073240008"
      ]
     },
     "execution_count": 6,
     "metadata": {},
     "output_type": "execute_result"
    }
   ],
   "source": [
    "young = (gss['age'] < 30)\n",
    "prob(young)"
   ]
  },
  {
   "cell_type": "code",
   "execution_count": 7,
   "id": "f89e1c33",
   "metadata": {},
   "outputs": [
    {
     "data": {
      "text/plain": [
       "0.17328058429701765"
      ]
     },
     "execution_count": 7,
     "metadata": {},
     "output_type": "execute_result"
    }
   ],
   "source": [
    "old = (gss['age'] >= 65)\n",
    "prob(old)"
   ]
  },
  {
   "cell_type": "markdown",
   "id": "932002c2",
   "metadata": {},
   "source": [
    "## Onward! \n",
    "<br>\n",
    "\n",
    "    Theorem 1: Using conjunction to compute a conditional probability.\n",
    "\n",
    "    Theorem 2: Using a conditional probability to compute a conjunction.\n",
    "\n",
    "    Theorem 3: Using conditional(A, B) to compute conditional(B, A).\n",
    "\n",
    "\n",
    "Theorem 3: Also known as Bayes’s Theorem, which is the foundation of Bayesian statistics."
   ]
  },
  {
   "cell_type": "markdown",
   "id": "6ac767ae",
   "metadata": {},
   "source": [
    "<b>P(A)</b> is the probability of proposition A. <br>\n",
    "<b>P(A and B)</b> is the probability of the conjunction of A and B, that is, the probability that both are true. <br>\n",
    "<b>P(A|B)</b>is the conditional probability of A given that B is true. The vertical line between A and B is pronounced “given”."
   ]
  },
  {
   "cell_type": "code",
   "execution_count": null,
   "id": "d85d8357",
   "metadata": {},
   "outputs": [],
   "source": [
    "# https://allendowney.github.io/BiteSizeBayes/02_bayes.html"
   ]
  }
 ],
 "metadata": {
  "kernelspec": {
   "display_name": "Python 3 (ipykernel)",
   "language": "python",
   "name": "python3"
  },
  "language_info": {
   "codemirror_mode": {
    "name": "ipython",
    "version": 3
   },
   "file_extension": ".py",
   "mimetype": "text/x-python",
   "name": "python",
   "nbconvert_exporter": "python",
   "pygments_lexer": "ipython3",
   "version": "3.11.3"
  }
 },
 "nbformat": 4,
 "nbformat_minor": 5
}
